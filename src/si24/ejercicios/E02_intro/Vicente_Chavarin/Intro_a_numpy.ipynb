{
  "cells": [
    {
      "cell_type": "markdown",
      "metadata": {
        "id": "KRrFuyTwXWhs"
      },
      "source": [
        "# Numpy, vectores y matrices\n",
        "\n",
        "1. Introducción a numpy \n",
        "2. Operaciones matemáticas con numpy (TODO)\n",
        "3. Ejercicios de algebra lineal (TODO)\n",
        "\n",
        "# 1. Introducción a numpy\n",
        "---\n",
        "\n",
        "Exploraremos el uso de numpy para diversas operaciones con vectores, matrices y tensores.\n",
        "\n",
        "## Instalación de dependencias\n",
        "\n",
        "El primer paso es configurar nuestro ambiente. Para eso tenemos que instalar dependencias que no son nativas de python (En este caso [numpy](https://numpy.org/doc/stable/user/quickstart.html)). Para hacer esto en google colab, ejecuta la siguiente linea de código:\n"
      ]
    },
    {
      "cell_type": "code",
      "execution_count": 1,
      "metadata": {
        "colab": {
          "base_uri": "https://localhost:8080/"
        },
        "id": "6rNKRMlSXTSm",
        "outputId": "b8ae730c-eccf-45e9-9f0f-449d3108fef0"
      },
      "outputs": [
        {
          "name": "stdout",
          "output_type": "stream",
          "text": [
            "Collecting numpy\n",
            "  Downloading numpy-1.24.4-cp38-cp38-win_amd64.whl.metadata (5.6 kB)\n",
            "Downloading numpy-1.24.4-cp38-cp38-win_amd64.whl (14.9 MB)\n",
            "   ---------------------------------------- 0.0/14.9 MB ? eta -:--:--\n",
            "   ---------------------------------------- 0.0/14.9 MB ? eta -:--:--\n",
            "   ---------------------------------------- 0.0/14.9 MB 435.7 kB/s eta 0:00:35\n",
            "   ---------------------------------------- 0.1/14.9 MB 1.2 MB/s eta 0:00:13\n",
            "   - -------------------------------------- 0.7/14.9 MB 4.9 MB/s eta 0:00:03\n",
            "   ---- ----------------------------------- 1.6/14.9 MB 7.9 MB/s eta 0:00:02\n",
            "   ------ --------------------------------- 2.4/14.9 MB 9.7 MB/s eta 0:00:02\n",
            "   --------- ------------------------------ 3.4/14.9 MB 10.9 MB/s eta 0:00:02\n",
            "   ----------- ---------------------------- 4.2/14.9 MB 11.6 MB/s eta 0:00:01\n",
            "   ------------- -------------------------- 5.0/14.9 MB 11.8 MB/s eta 0:00:01\n",
            "   --------------- ------------------------ 5.6/14.9 MB 12.0 MB/s eta 0:00:01\n",
            "   ----------------- ---------------------- 6.4/14.9 MB 12.5 MB/s eta 0:00:01\n",
            "   -------------------- ------------------- 7.5/14.9 MB 12.9 MB/s eta 0:00:01\n",
            "   --------------------- ------------------ 8.2/14.9 MB 12.7 MB/s eta 0:00:01\n",
            "   ----------------------- ---------------- 8.9/14.9 MB 12.9 MB/s eta 0:00:01\n",
            "   ------------------------- -------------- 9.4/14.9 MB 12.8 MB/s eta 0:00:01\n",
            "   --------------------------- ------------ 10.4/14.9 MB 14.9 MB/s eta 0:00:01\n",
            "   ----------------------------- ---------- 11.0/14.9 MB 15.2 MB/s eta 0:00:01\n",
            "   ------------------------------- -------- 11.6/14.9 MB 14.6 MB/s eta 0:00:01\n",
            "   -------------------------------- ------- 12.3/14.9 MB 14.6 MB/s eta 0:00:01\n",
            "   ---------------------------------- ----- 12.9/14.9 MB 14.2 MB/s eta 0:00:01\n",
            "   ------------------------------------ --- 13.6/14.9 MB 14.2 MB/s eta 0:00:01\n",
            "   -------------------------------------- - 14.4/14.9 MB 13.9 MB/s eta 0:00:01\n",
            "   ---------------------------------------  14.9/14.9 MB 13.6 MB/s eta 0:00:01\n",
            "   ---------------------------------------- 14.9/14.9 MB 12.8 MB/s eta 0:00:00\n",
            "Installing collected packages: numpy\n",
            "Successfully installed numpy-1.24.4\n",
            "^C\n"
          ]
        }
      ],
      "source": [
        "!pip install numpy\n",
        "!pip install matplotlib"
      ]
    },
    {
      "cell_type": "markdown",
      "metadata": {
        "id": "0bD6LLA6XwaS"
      },
      "source": [
        "## Importar dependencias\n",
        "Mientras que lo anterior nos permite configurar nuestro ambiente de programación, ahora procederemos a crear nuestro código ejecutable. \n",
        "\n",
        "Como en todo lenguaje lo primero que hacemos es importar toda dependencia de la cual haremos uso. En este caso utilizaremos la librería de numpy para manejo de operaciones y matplotlib para visualización de datos."
      ]
    },
    {
      "cell_type": "code",
      "execution_count": 2,
      "metadata": {
        "id": "IO55YYe0XtWK"
      },
      "outputs": [
        {
          "name": "stdout",
          "output_type": "stream",
          "text": [
            "Collecting matplotlib\n",
            "  Downloading matplotlib-3.7.5-cp38-cp38-win_amd64.whl.metadata (5.8 kB)\n",
            "Collecting contourpy>=1.0.1 (from matplotlib)\n",
            "  Downloading contourpy-1.1.1-cp38-cp38-win_amd64.whl.metadata (5.9 kB)\n",
            "Collecting cycler>=0.10 (from matplotlib)\n",
            "  Downloading cycler-0.12.1-py3-none-any.whl.metadata (3.8 kB)\n",
            "Collecting fonttools>=4.22.0 (from matplotlib)\n",
            "  Downloading fonttools-4.49.0-cp38-cp38-win_amd64.whl.metadata (162 kB)\n",
            "     ---------------------------------------- 0.0/162.3 kB ? eta -:--:--\n",
            "     -- ------------------------------------- 10.2/162.3 kB ? eta -:--:--\n",
            "     ---------------------- ---------------- 92.2/162.3 kB 1.3 MB/s eta 0:00:01\n",
            "     -------------------------------------- 162.3/162.3 kB 1.4 MB/s eta 0:00:00\n",
            "Collecting kiwisolver>=1.0.1 (from matplotlib)\n",
            "  Downloading kiwisolver-1.4.5-cp38-cp38-win_amd64.whl.metadata (6.5 kB)\n",
            "Requirement already satisfied: numpy<2,>=1.20 in c:\\users\\vicen\\anaconda3\\envs\\ml_env\\lib\\site-packages (from matplotlib) (1.24.4)\n",
            "Requirement already satisfied: packaging>=20.0 in c:\\users\\vicen\\anaconda3\\envs\\ml_env\\lib\\site-packages (from matplotlib) (23.2)\n",
            "Collecting pillow>=6.2.0 (from matplotlib)\n",
            "  Downloading pillow-10.2.0-cp38-cp38-win_amd64.whl.metadata (9.9 kB)\n",
            "Collecting pyparsing>=2.3.1 (from matplotlib)\n",
            "  Downloading pyparsing-3.1.1-py3-none-any.whl.metadata (5.1 kB)\n",
            "Requirement already satisfied: python-dateutil>=2.7 in c:\\users\\vicen\\anaconda3\\envs\\ml_env\\lib\\site-packages (from matplotlib) (2.8.2)\n",
            "Collecting importlib-resources>=3.2.0 (from matplotlib)\n",
            "  Downloading importlib_resources-6.1.1-py3-none-any.whl.metadata (4.1 kB)\n",
            "Requirement already satisfied: zipp>=3.1.0 in c:\\users\\vicen\\anaconda3\\envs\\ml_env\\lib\\site-packages (from importlib-resources>=3.2.0->matplotlib) (3.17.0)\n",
            "Requirement already satisfied: six>=1.5 in c:\\users\\vicen\\anaconda3\\envs\\ml_env\\lib\\site-packages (from python-dateutil>=2.7->matplotlib) (1.16.0)\n",
            "Downloading matplotlib-3.7.5-cp38-cp38-win_amd64.whl (7.5 MB)\n",
            "   ---------------------------------------- 0.0/7.5 MB ? eta -:--:--\n",
            "   -- ------------------------------------- 0.5/7.5 MB 10.9 MB/s eta 0:00:01\n",
            "   ----- ---------------------------------- 1.0/7.5 MB 10.5 MB/s eta 0:00:01\n",
            "   -------- ------------------------------- 1.6/7.5 MB 12.4 MB/s eta 0:00:01\n",
            "   ----------- ---------------------------- 2.2/7.5 MB 12.7 MB/s eta 0:00:01\n",
            "   --------------- ------------------------ 2.8/7.5 MB 12.9 MB/s eta 0:00:01\n",
            "   ------------------ --------------------- 3.4/7.5 MB 12.9 MB/s eta 0:00:01\n",
            "   ---------------------- ----------------- 4.2/7.5 MB 13.4 MB/s eta 0:00:01\n",
            "   -------------------------- ------------- 5.0/7.5 MB 13.3 MB/s eta 0:00:01\n",
            "   ------------------------------ --------- 5.8/7.5 MB 13.3 MB/s eta 0:00:01\n",
            "   ------------------------------------ --- 6.8/7.5 MB 13.5 MB/s eta 0:00:01\n",
            "   ---------------------------------------  7.4/7.5 MB 13.4 MB/s eta 0:00:01\n",
            "   ---------------------------------------- 7.5/7.5 MB 12.6 MB/s eta 0:00:00\n",
            "Downloading contourpy-1.1.1-cp38-cp38-win_amd64.whl (477 kB)\n",
            "   ---------------------------------------- 0.0/477.9 kB ? eta -:--:--\n",
            "   --------------------------------------- 477.9/477.9 kB 15.1 MB/s eta 0:00:00\n",
            "Downloading cycler-0.12.1-py3-none-any.whl (8.3 kB)\n",
            "Downloading fonttools-4.49.0-cp38-cp38-win_amd64.whl (1.5 MB)\n",
            "   ---------------------------------------- 0.0/1.5 MB ? eta -:--:--\n",
            "   ---------------------- ----------------- 0.8/1.5 MB 17.4 MB/s eta 0:00:01\n",
            "   ---------------------------------------  1.5/1.5 MB 19.2 MB/s eta 0:00:01\n",
            "   ---------------------------------------- 1.5/1.5 MB 13.7 MB/s eta 0:00:00\n",
            "Downloading importlib_resources-6.1.1-py3-none-any.whl (33 kB)\n",
            "Downloading kiwisolver-1.4.5-cp38-cp38-win_amd64.whl (56 kB)\n",
            "   ---------------------------------------- 0.0/56.2 kB ? eta -:--:--\n",
            "   ---------------------------------------- 56.2/56.2 kB 3.1 MB/s eta 0:00:00\n",
            "Downloading pillow-10.2.0-cp38-cp38-win_amd64.whl (2.6 MB)\n",
            "   ---------------------------------------- 0.0/2.6 MB ? eta -:--:--\n",
            "   ------------- -------------------------- 0.9/2.6 MB 19.0 MB/s eta 0:00:01\n",
            "   -------------------------- ------------- 1.7/2.6 MB 18.3 MB/s eta 0:00:01\n",
            "   ------------------------------------- -- 2.4/2.6 MB 17.4 MB/s eta 0:00:01\n",
            "   ---------------------------------------  2.6/2.6 MB 16.7 MB/s eta 0:00:01\n",
            "   ---------------------------------------- 2.6/2.6 MB 14.0 MB/s eta 0:00:00\n",
            "Downloading pyparsing-3.1.1-py3-none-any.whl (103 kB)\n",
            "   ---------------------------------------- 0.0/103.1 kB ? eta -:--:--\n",
            "   ---------------------------------------- 103.1/103.1 kB 5.8 MB/s eta 0:00:00\n",
            "Installing collected packages: pyparsing, pillow, kiwisolver, importlib-resources, fonttools, cycler, contourpy, matplotlib\n",
            "Successfully installed contourpy-1.1.1 cycler-0.12.1 fonttools-4.49.0 importlib-resources-6.1.1 kiwisolver-1.4.5 matplotlib-3.7.5 pillow-10.2.0 pyparsing-3.1.1\n"
          ]
        }
      ],
      "source": [
        "import numpy as np"
      ]
    },
    {
      "attachments": {},
      "cell_type": "markdown",
      "metadata": {},
      "source": [
        "Algunas de las formas en las que podemos generar matrices en numpy son:\n",
        "1. Utilizando ceros en todos los elementos (np.zeros)\n",
        "2. Utilizando unos en todos los elementos (np.ones)\n",
        "3. Escribiendo los valores de manera explícita (np.array)\n",
        "\n",
        "En los primeros dos casos, se debe introducir las dimensiones de la matriz entre paréntesis. En el caso de 2 dimensiones, la primer dimensión hace alusión a la cantidad de renglones, y la segunda dimensión especifica la cantidad de columnas."
      ]
    },
    {
      "cell_type": "code",
      "execution_count": 3,
      "metadata": {},
      "outputs": [
        {
          "name": "stdout",
          "output_type": "stream",
          "text": [
            "Utilizando ceros\n",
            "[[0. 0.]\n",
            " [0. 0.]\n",
            " [0. 0.]]\n",
            "Utilizando unos\n",
            "[[1. 1. 1.]\n",
            " [1. 1. 1.]]\n",
            "Escribiendo valores explicitamente\n",
            "[[1 2]\n",
            " [3 4]]\n"
          ]
        }
      ],
      "source": [
        "print(\"Utilizando ceros\")\n",
        "print(np.zeros((3, 2)))\n",
        "print(\"Utilizando unos\")\n",
        "print(np.ones((2, 3)))\n",
        "print(\"Escribiendo valores explicitamente\")\n",
        "print(np.array([[1, 2], [3, 4]]))"
      ]
    },
    {
      "attachments": {},
      "cell_type": "markdown",
      "metadata": {},
      "source": [
        "Al momento de programar con numpy una de los aspectos más importantes al tratar con una matriz son sus dimensiones, para visualizar las dimensiones podemos usar el comando `shape`"
      ]
    },
    {
      "cell_type": "code",
      "execution_count": 4,
      "metadata": {},
      "outputs": [
        {
          "name": "stdout",
          "output_type": "stream",
          "text": [
            "[[1 2 3]\n",
            " [4 5 6]]\n",
            "La matriz tiene 2 renglones y 3 columnas\n",
            "(2, 3)\n"
          ]
        }
      ],
      "source": [
        "matriz = np.array([[1, 2, 3], [4, 5, 6]])\n",
        "print(matriz)\n",
        "print(f\"La matriz tiene {matriz.shape[0]} renglones y {matriz.shape[1]} columnas\")\n",
        "print(matriz.shape)\n"
      ]
    },
    {
      "attachments": {},
      "cell_type": "markdown",
      "metadata": {},
      "source": [
        "En python utilizamos Numpy porque esta librería permite realizar operaciones matemáticas entre matrices de manera sencilla y rápida"
      ]
    },
    {
      "cell_type": "code",
      "execution_count": 5,
      "metadata": {
        "colab": {
          "base_uri": "https://localhost:8080/"
        },
        "id": "51tifS94Xmqc",
        "outputId": "2d79ead3-e1c8-42a6-f0c8-76d0a987c65d"
      },
      "outputs": [
        {
          "name": "stdout",
          "output_type": "stream",
          "text": [
            "Inicial:\n",
            "[[0. 0.]\n",
            " [0. 0.]]\n",
            "Ciclo 0:\n",
            "[[1. 1.]\n",
            " [1. 1.]]\n",
            "Ciclo 1:\n",
            "[[2. 2.]\n",
            " [2. 2.]]\n",
            "Ciclo 2:\n",
            "[[3. 3.]\n",
            " [3. 3.]]\n"
          ]
        }
      ],
      "source": [
        "x = np.zeros((2, 2)) # instanciar una matriz de 2x2 inicializada en ceros\n",
        "print(\"Inicial:\")\n",
        "print(x)\n",
        "\n",
        "for i in range(3):\n",
        "  x += np.ones((2, 2))  # np.ones((2, 2)) crea una matriz de 2x2 inicializada en unos\n",
        "  print(f\"Ciclo {i}:\")\n",
        "  print(x)\n"
      ]
    },
    {
      "attachments": {},
      "cell_type": "markdown",
      "metadata": {
        "id": "ePRk7uQbU_9s"
      },
      "source": [
        "## Broadcasting\n",
        "En el código anterior sumamos una matriz de 2x2 a otra matriz con las mismas dimensiones (2x2). Matemáticamente la suma se realiza de manera directa, es decir, el elemento de la posición [0, 0] de la primer matriz se suma al elemento de la posición [0, 0] de la segunda matriz.\n",
        "\n",
        "En numpy, también podriamos sumar una matriz de 2x2 a una de 1x2. Matemáticamente *esto es imposible* sin embargo numpy utiliza el concepto de [`broadcasting`](https://numpy.org/doc/stable/user/basics.broadcasting.html) para realizar este tipo de operaciones."
      ]
    },
    {
      "cell_type": "code",
      "execution_count": 10,
      "metadata": {},
      "outputs": [
        {
          "name": "stdout",
          "output_type": "stream",
          "text": [
            "Inicial:\n",
            "[[0. 0.]\n",
            " [0. 0.]]\n",
            "Ciclo 0:\n",
            "[[1. 1.]\n",
            " [1. 1.]]\n",
            "Ciclo 1:\n",
            "[[2. 2.]\n",
            " [2. 2.]]\n",
            "Ciclo 2:\n",
            "[[3. 3.]\n",
            " [3. 3.]]\n"
          ]
        }
      ],
      "source": [
        "x = np.zeros((2, 2)) # instanciar una matriz de 2x2 inicializada en ceros\n",
        "print(\"Inicial:\")\n",
        "print(x)\n",
        "\n",
        "for i in range(3):\n",
        "  x += np.ones((1, 2))  # np.ones((1, 2)) crea una matriz de 1x2 inicializada en unos\n",
        "  print(f\"Ciclo {i}:\")\n",
        "  print(x)"
      ]
    },
    {
      "attachments": {},
      "cell_type": "markdown",
      "metadata": {},
      "source": [
        "\n",
        "Cuando numpy hace operaciones en dos matrices, compara sus dimensiones uno a uno. Comienza con las de la derecha y evalua hacia las de la izquierda. Dos dimensiones son compatibles si:\n",
        "1.   Son iguales\n",
        "2.   Una dimensión es 1\n",
        "\n",
        "En esencia, cuando la dimensión es 1 se \"repite\" o se \"estira\" para igualar con la cual se quiere realizar la operación."
      ]
    },
    {
      "cell_type": "code",
      "execution_count": 12,
      "metadata": {},
      "outputs": [
        {
          "name": "stdout",
          "output_type": "stream",
          "text": [
            "La primer matriz es:\n",
            "[[1 2]\n",
            " [3 4]\n",
            " [5 6]]\n",
            "La segunda matriz es:\n",
            "[2 0]\n",
            "Al realizar la suma de a con b, b se convierte en:\n",
            "[[2 0]\n",
            " [2 0]\n",
            " [2 0]]\n",
            "El resultado de sumar ambas matrices es:\n",
            "[[3 2]\n",
            " [5 4]\n",
            " [7 6]]\n"
          ]
        }
      ],
      "source": [
        "a = np.array([[1, 2], [3, 4], [5, 6]])\n",
        "b = np.array([2, 0])\n",
        "\n",
        "print(\"La primer matriz es:\")\n",
        "print(a)\n",
        "\n",
        "print(\"La segunda matriz es:\")\n",
        "print(b)\n",
        "\n",
        "print(\"Al realizar la suma de a con b, b se convierte en:\")\n",
        "b_alterna = np.array([[2, 0], [2, 0], [2, 0]])\n",
        "print(b_alterna)\n",
        "\n",
        "print(\"El resultado de sumar ambas matrices es:\")\n",
        "c = a + b\n",
        "print(c)"
      ]
    },
    {
      "attachments": {},
      "cell_type": "markdown",
      "metadata": {},
      "source": [
        " Podemos hacer lo mismo para matrices con más dimensiones. En el siguiente ejemplo, queremos sumar la matriz A a la matriz B. Estas tienen distintas dimensiones(8x1x6x1 y 7x1x5), numpy entonces iguala las dimensiones de 1 a las que no lo son y el resultado es de dimensionalidad (8x7x6x5)\n",
        "\n",
        "```\n",
        "A      (4d array):  8 x 1 x 6 x 1\n",
        "B      (3d array):      7 x 1 x 5\n",
        "Result (4d array):  8 x 7 x 6 x 5\n",
        "```"
      ]
    },
    {
      "cell_type": "markdown",
      "metadata": {
        "id": "jSksV8uwJ3sd"
      },
      "source": [
        "Considera el siguiente codigo: Puedes predecir la dimensionalidad de la matriz C antes de correr la celda?"
      ]
    },
    {
      "cell_type": "code",
      "execution_count": 13,
      "metadata": {
        "colab": {
          "base_uri": "https://localhost:8080/"
        },
        "id": "Reh5-8GoWpio",
        "outputId": "d6821027-c5f7-455a-d7c9-00392146c5e0"
      },
      "outputs": [
        {
          "name": "stdout",
          "output_type": "stream",
          "text": [
            "(8, 5, 6, 5)\n"
          ]
        }
      ],
      "source": [
        "A = np.ones((8,1,6,1))\n",
        "B = np.ones((5,1,5)) * 2 # Inicializada en 2\n",
        "\n",
        "C = A + B\n",
        "print(C.shape)"
      ]
    },
    {
      "attachments": {},
      "cell_type": "markdown",
      "metadata": {
        "id": "fpnEP_vPJ1ZF"
      },
      "source": [
        "# 2. Operaciones matemáticas con numpy"
      ]
    },
    {
      "attachments": {},
      "cell_type": "markdown",
      "metadata": {
        "id": "-2dytl2MJ-Qd"
      },
      "source": [
        "Vamos a realizar diferentes operaciones comunes de algebra lineal en numpy. Considera las siguientes operaciones:\n",
        "\n",
        "\n",
        "\n",
        "\\begin{equation}\n",
        "  A=Wx\\\\\n",
        "\\end{equation}\n",
        "\n",
        "\\begin{equation}\n",
        "  W=\n",
        "  \\begin{bmatrix}\n",
        "  2 & 3\\\\\n",
        "  4 & 5 \n",
        "  \\end{bmatrix}\\\\\n",
        "  x = \n",
        "  \\begin{bmatrix}\n",
        "  5\\\\\n",
        "  6 \n",
        "  \\end{bmatrix}\n",
        "\\end{equation}\n",
        "\n",
        "Calcula analiticamente el resultado de la operación $A$:\n",
        "\\begin{equation}\n",
        "  A=  \n",
        "  \\begin{bmatrix}\n",
        "  ?? \\\\\n",
        "  ??\n",
        "  \\end{bmatrix}\n",
        "\\end{equation}\n",
        "\n",
        "Realicemos ahora la misma operación en numpy:\n",
        "Puedes usar diferentes operadores para realizar operaciones con matrices\n",
        "* `np.dot(a,b)` [docs](https://numpy.org/doc/stable/reference/generated/numpy.dot.html): Se utiliza para obtener el producto punto de dos vectores. Sin embargo cuando a o b son matrices, realiza una multiplicacion de matrices.\n",
        "* `A @ B` [docs](https://numpy.org/doc/stable/reference/generated/numpy.dot.html): Si `A` y `B` son arreglos de numpy (`np.Array([algo])`), realiza una operacion de matrices regular. Recuerda que deben tener la dimensionalidad correcta para la operación.\n",
        "* `np.multiply(a,b)`: Resulta en el producto hadamart.\n",
        "* `A * B`: También corresponde a un producto hadamart, es decir una multiplicacion punto a punto. Lo mismo ocurre con los operadores `+`, `-`, y `/`. \n",
        "\n",
        "Recuerda que numpy permite realizar operaciones aun cuando las dimensiones no son identicas debido a que realiza un \"broadcasting\".\n",
        "\n",
        "### Instrucciones:\n",
        "Completa el siguiente codigo y compara el resultado de numpy con el analítico."
      ]
    },
    {
      "cell_type": "code",
      "execution_count": 16,
      "metadata": {
        "colab": {
          "base_uri": "https://localhost:8080/",
          "height": 130
        },
        "id": "EbkI4pW0J1Em",
        "outputId": "7c1afab6-a394-4aea-f5db-42697ffcd110"
      },
      "outputs": [
        {
          "name": "stdout",
          "output_type": "stream",
          "text": [
            "(2, 2)\n",
            "(2, 1)\n",
            "(2, 2)\n",
            "Resultado:\n",
            "[[10 15]\n",
            " [24 30]]\n"
          ]
        }
      ],
      "source": [
        "W = np.array([[2,3],\n",
        "              [4,5]])\n",
        "print(W.shape)\n",
        "# TODO: inicializa x\n",
        "x = np.array([[5],[6]])\n",
        "print(x.shape)\n",
        "# TODO: Realiza la multiplicación de Wx\n",
        "A = W * x\n",
        "print(A.shape)\n",
        "print(\"Resultado:\")\n",
        "print(A)"
      ]
    },
    {
      "cell_type": "markdown",
      "metadata": {
        "id": "ZF5EDrxGNZHi"
      },
      "source": [
        "Numpy puede hacer muchas cosas interesantes. Por ejemplo podemos calcular los valores y vectores propios de una matriz. Tambien podemos encontrar informacion importante como la magnitud de un vector y determinar si una matriz es positiva definitiva o no. Esto se accede a través de la utilidad de `linalg`. \n",
        "\n",
        "Intenta determinar los valores que imprimirá el siguiente código antes de correr la celda."
      ]
    },
    {
      "cell_type": "code",
      "execution_count": 17,
      "metadata": {
        "colab": {
          "base_uri": "https://localhost:8080/"
        },
        "id": "F-QtLUhvNp3D",
        "outputId": "444f462f-0c69-467b-8409-939fde096822"
      },
      "outputs": [
        {
          "name": "stdout",
          "output_type": "stream",
          "text": [
            "M transpuesta:\n",
            " [[3 0]\n",
            " [1 2]]\n",
            "M eig_val: [3. 2.]\n",
            "M eig_vec:\n",
            " [[ 1.         -0.70710678]\n",
            " [ 0.          0.70710678]]\n",
            "Magnitud del primer vector columna de M:\n",
            " 3.0\n",
            "Positiva definitiva? True\n",
            "Inversa de M [[ 0.33333333 -0.16666667]\n",
            " [ 0.          0.5       ]]\n",
            "Determinante de M: 6.0\n"
          ]
        }
      ],
      "source": [
        "M = np.array([[3,1],\n",
        "               [0,2]])\n",
        "\n",
        "# Calcular la transpuesta\n",
        "M_transpose = M.T\n",
        "print(\"M transpuesta:\\n\", M_transpose)\n",
        "\n",
        "# Calcular valores y vectores propios\n",
        "eig_val, eig_vec = np.linalg.eig(M)\n",
        "print(\"M eig_val:\", eig_val)\n",
        "print(\"M eig_vec:\\n\", eig_vec) # eig_vec es el vector proio unitario. Cada columna representa un eigenvector\n",
        "\n",
        "\n",
        "# Calcular la magnitud de el primer vector columna:\n",
        "norm = np.linalg.norm(M[:,0])\n",
        "print(\"Magnitud del primer vector columna de M:\\n\", norm)\n",
        "\n",
        "# Determinar si la matriz es positiva definitiva\n",
        "is_pos_def = np.all(np.linalg.eigvals(M) > 0)\n",
        "print(\"Positiva definitiva?\", is_pos_def)\n",
        "\n",
        "# Determinar la inversa\n",
        "M_inv = np.linalg.inv(M)\n",
        "print(\"Inversa de M\", M_inv)\n",
        "\n",
        "# Calcular el determinante\n",
        "M_det = np.linalg.det(M)\n",
        "print(\"Determinante de M:\", M_det)"
      ]
    },
    {
      "cell_type": "markdown",
      "metadata": {
        "id": "zEkhN0WU64l-"
      },
      "source": [
        "Ahora estas listo para realizar diferentes ejercicios de algebra lineal!"
      ]
    },
    {
      "attachments": {},
      "cell_type": "markdown",
      "metadata": {
        "id": "FKH1uVka68O9"
      },
      "source": [
        "# 3. Ejercicios de álgebra lineal\n",
        "\n",
        "Resuelve los siguientes ejercicios usando **las funciones de numpy y python adecuadas** e imprime los resultados. Compara la respuesta con el resultado manual calculado en clase.\n",
        "\n",
        "\n",
        "\n"
      ]
    },
    {
      "attachments": {},
      "cell_type": "markdown",
      "metadata": {
        "id": "931q7SsMS0Gm"
      },
      "source": [
        "1. Dada una matriz $X$ imprime los siguientes valores:\n",
        "\\begin{equation}\n",
        "  X=\n",
        "  \\begin{bmatrix}\n",
        "  5 & 3 & 5 \\\\\n",
        "  8 & 6 & 7 \\\\\n",
        "  4 & 2 & 1\n",
        "  \\end{bmatrix}\\\\\n",
        "\\end{equation}\n",
        "\n",
        "*   $X_{0,0}$\n",
        "*   $X_{1,2}$\n",
        "*   $X_{2,:}$\n",
        "*   $X_{:,1}$"
      ]
    },
    {
      "cell_type": "code",
      "execution_count": 24,
      "metadata": {
        "id": "gCrqPbgXTPd9"
      },
      "outputs": [
        {
          "name": "stdout",
          "output_type": "stream",
          "text": [
            "5\n"
          ]
        }
      ],
      "source": [
        "X = np.array([[5,3,5],\n",
        "              [8,5,7],\n",
        "              [4,2,1]])\n",
        "\n",
        "print(X[0,0])\n",
        "# TODO, indexa e imprime los valores restantes\n"
      ]
    },
    {
      "cell_type": "code",
      "execution_count": 25,
      "metadata": {},
      "outputs": [
        {
          "name": "stdout",
          "output_type": "stream",
          "text": [
            "5\n",
            "7\n",
            "[4 2 1]\n",
            "[3 5 2]\n"
          ]
        }
      ],
      "source": [
        "X = np.array([[5,3,5],\n",
        "              [8,5,7],\n",
        "              [4,2,1]])\n",
        "\n",
        "print(X[0,0])\n",
        "# TODO, indexa e imprime los valores restantes\n",
        "\n",
        "print(X[1,2])\n",
        "print(X[2,:])\n",
        "print(X[:,1])"
      ]
    },
    {
      "cell_type": "markdown",
      "metadata": {
        "id": "CG-43HVASlfN"
      },
      "source": [
        "2. Calcula $Z = G \\circ H$\n",
        "\n",
        "\\begin{equation}\n",
        "  G=\n",
        "  \\begin{bmatrix}\n",
        "  3 & 5 & 7 \\\\\n",
        "  4 & 9 & 8 \n",
        "  \\end{bmatrix}\\\\\n",
        "  H = \n",
        "  \\begin{bmatrix}\n",
        "  1 & 6 & 3 \\\\\n",
        "  0 & 2 & 9 \n",
        "  \\end{bmatrix}\\\\\n",
        "\\end{equation}"
      ]
    },
    {
      "cell_type": "code",
      "execution_count": 26,
      "metadata": {},
      "outputs": [
        {
          "name": "stdout",
          "output_type": "stream",
          "text": [
            "[[ 3 30 21]\n",
            " [ 0 18 72]]\n"
          ]
        }
      ],
      "source": [
        "G = np.array([[3,5,7],\n",
        "              [4,9,8]])\n",
        "H = np.array([[1,6,3],\n",
        "              [0,2,9]])\n",
        "\n",
        "# TODO: Imprime el producto hadamard\n",
        "print(G * H)"
      ]
    },
    {
      "cell_type": "markdown",
      "metadata": {
        "id": "R29_Xcx0Thg1"
      },
      "source": [
        "3. Calcula $u \\cdot v$ para:\n",
        "\\begin{equation}\n",
        "  u=\n",
        "  \\begin{bmatrix}\n",
        "  3 \\\\\n",
        "  1 \n",
        "  \\end{bmatrix}\\\\\n",
        "  v = \n",
        "  \\begin{bmatrix}\n",
        "  2 \\\\\n",
        "  4\n",
        "  \\end{bmatrix}\\\\\n",
        "\\end{equation}"
      ]
    },
    {
      "cell_type": "code",
      "execution_count": 27,
      "metadata": {},
      "outputs": [
        {
          "name": "stdout",
          "output_type": "stream",
          "text": [
            "El producto punto entre u y v es: 10\n"
          ]
        }
      ],
      "source": [
        "# TODO: define los vectores u,v y calcula el producto punto\n",
        "import numpy as np\n",
        "\n",
        "# Definir los vectores u y v\n",
        "u = np.array([3, 1])\n",
        "v = np.array([2, 4])\n",
        "\n",
        "# Calcular el producto punto entre u y v\n",
        "producto_punto = np.dot(u, v)\n",
        "\n",
        "print(\"El producto punto entre u y v es:\", producto_punto)\n"
      ]
    },
    {
      "cell_type": "markdown",
      "metadata": {
        "id": "eOzoSui9UDx9"
      },
      "source": [
        "4. Dadas las matrices $G, H$ realiza la multiplicación de matrices  $Z=GH$ e imprime la matriz resultante\n",
        "\n",
        "\\begin{equation}\n",
        "  G=\n",
        "  \\begin{bmatrix}\n",
        "  1 & 2 \\\\ \n",
        "  3 & 4 \\\\\n",
        "  5 & 6 \\\\ \n",
        "  \\end{bmatrix}\\\\\n",
        "  H = \n",
        "  \\begin{bmatrix}\n",
        "  7 & 8 \\\\\n",
        "  9 & 10\n",
        "  \\end{bmatrix}\n",
        "\\end{equation}"
      ]
    },
    {
      "cell_type": "code",
      "execution_count": 30,
      "metadata": {
        "id": "iHztYj5dT9Rk"
      },
      "outputs": [
        {
          "name": "stdout",
          "output_type": "stream",
          "text": [
            "El resultado de la multiplicación de matrices GH es:\n",
            "[[ 25  28]\n",
            " [ 57  64]\n",
            " [ 89 100]]\n"
          ]
        }
      ],
      "source": [
        "# TODO: Define las matrices G, H e imprime el resultado de su multiplicación\n",
        "import numpy as np\n",
        "\n",
        "# Definir las matrices G y H\n",
        "G = np.array([[1, 2],\n",
        "              [3, 4],\n",
        "              [5, 6]])\n",
        "\n",
        "H = np.array([[7, 8],\n",
        "              [9, 10]])\n",
        "\n",
        "# Realizar la multiplicación de matrices\n",
        "Z = np.dot(G, H)\n",
        "\n",
        "# Imprimir la matriz resultante Z\n",
        "print(\"El resultado de la multiplicación de matrices GH es:\")\n",
        "print(Z)\n"
      ]
    },
    {
      "cell_type": "markdown",
      "metadata": {
        "id": "NBGZq480VLhL"
      },
      "source": [
        "5. Imprime la transpuesta de $X$\n",
        "\\begin{equation}\n",
        "  X=\n",
        "  \\begin{bmatrix}\n",
        "  1 & 2 & 3\\\\ \n",
        "  4 & 5 & 6 \\\\\n",
        "  7 & 8 & 9\\\\ \n",
        "  \\end{bmatrix}\n",
        "\\end{equation}"
      ]
    },
    {
      "cell_type": "code",
      "execution_count": 34,
      "metadata": {},
      "outputs": [
        {
          "name": "stdout",
          "output_type": "stream",
          "text": [
            "Matriz X:\n",
            "[[1 2 3]\n",
            " [4 5 6]\n",
            " [7 8 9]]\n",
            "\n",
            "La transpuesta de X es:\n",
            "[[1 4 7]\n",
            " [2 5 8]\n",
            " [3 6 9]]\n"
          ]
        }
      ],
      "source": [
        "import numpy as np\n",
        "X = np.arange(1, 10)\n",
        "X = X.reshape((3,3))\n",
        "print(\"Matriz X:\")\n",
        "print(X)\n",
        "# TODO: imprime la transpuesta de X\n",
        "\n",
        "# Calcular la transpuesta de X\n",
        "X_transpuesta = X.T\n",
        "\n",
        "print(\"\\nLa transpuesta de X es:\")\n",
        "print(X_transpuesta)\n"
      ]
    },
    {
      "cell_type": "markdown",
      "metadata": {
        "id": "T3zaz1cTXTSA"
      },
      "source": [
        "6. Imprime $Z=X^TX$ dada una matriz no simétrica $X$\n",
        "\\begin{equation}\n",
        "  X=\n",
        "  \\begin{bmatrix}\n",
        "  1 & 2 & 3\\\\ \n",
        "  4 & 5 & 6 \\\\\n",
        "  7 & 8 & 9\\\\ \n",
        "  \\end{bmatrix}\n",
        "\\end{equation}\n",
        "\n",
        "**TODO: Responde las preguntas**\n",
        "* ¿Que pasa con la matriz Z? ¿es simétrica? Si, es simétrica semi-definida positiva.\n",
        "* ¿De las propiedades vistas en clase, cual se cumple en este caso? La propiedad que se cumple en este caso es la propiedad de la matriz resultante de un producto de matrices $A = X^TX$."
      ]
    },
    {
      "cell_type": "code",
      "execution_count": 35,
      "metadata": {},
      "outputs": [
        {
          "name": "stdout",
          "output_type": "stream",
          "text": [
            "Matriz X:\n",
            "[[1 2 3]\n",
            " [4 5 6]\n",
            " [7 8 9]]\n",
            "\n",
            "La matriz Z es:\n",
            "[[ 66  78  90]\n",
            " [ 78  93 108]\n",
            " [ 90 108 126]]\n"
          ]
        }
      ],
      "source": [
        "import numpy as np\n",
        "\n",
        "X = np.arange(1, 10)\n",
        "X = X.reshape((3,3))\n",
        "print(\"Matriz X:\")\n",
        "print(X)\n",
        "\n",
        "# Calcular Z = X^T * X\n",
        "Z = np.dot(X.T, X)\n",
        "\n",
        "print(\"\\nLa matriz Z es:\")\n",
        "print(Z)\n"
      ]
    },
    {
      "cell_type": "markdown",
      "metadata": {
        "id": "ea9c6ni2Xxk6"
      },
      "source": [
        "7. Una vez calculada $Z=X^TX$ imprime su transpuesta $Z^T$\n",
        "\n",
        "**TODO: Responde las preguntas**\n",
        "* Compara $Z$ y $Z^T$¿Como es la transpuesta de Z? En este caso es igual a Z.\n",
        "* ¿En base a las propiedades vistas en clase, a cual se debe esto? Esto se basa en la propiedad de simetría que se cumple cuando multiplicamos una matriz por su traspuesta."
      ]
    },
    {
      "cell_type": "code",
      "execution_count": 36,
      "metadata": {},
      "outputs": [
        {
          "name": "stdout",
          "output_type": "stream",
          "text": [
            "[[ 66  78  90]\n",
            " [ 78  93 108]\n",
            " [ 90 108 126]]\n"
          ]
        }
      ],
      "source": [
        "# TODO imprime la transpuesta de Z\n",
        "print(Z.T)"
      ]
    },
    {
      "attachments": {},
      "cell_type": "markdown",
      "metadata": {},
      "source": [
        "8. Calcula e imprime los valores y vectores propios de las siguientes matrices\n",
        "\\begin{equation}\n",
        "  x_1 = \n",
        "  \\begin{bmatrix}\n",
        "  1 & 1 \\\\\n",
        "  4 & 1\n",
        "  \\end{bmatrix}\n",
        "  x_2 = \n",
        "  \\begin{bmatrix}\n",
        "  2 & 0 \\\\\n",
        "  0 & 3\n",
        "  \\end{bmatrix}\n",
        "\\end{equation}"
      ]
    },
    {
      "cell_type": "code",
      "execution_count": 40,
      "metadata": {},
      "outputs": [
        {
          "name": "stdout",
          "output_type": "stream",
          "text": [
            "Para x_1:\n",
            "Valores propios de x_1:\n",
            "[ 3. -1.]\n",
            "Vectores propios de x_1:\n",
            "[[ 0.4472136  -0.4472136 ]\n",
            " [ 0.89442719  0.89442719]]\n",
            "\n",
            "Para x_2:\n",
            "Valores propios de x_2:\n",
            "[2. 3.]\n",
            "Vectores propios de x_2:\n",
            "[[1. 0.]\n",
            " [0. 1.]]\n"
          ]
        }
      ],
      "source": [
        "import numpy as np\n",
        "\n",
        "x_1 = np.array([[1, 1],\n",
        "                [4, 1]])\n",
        "# TODO: imprime los valores y vectores propios de x_1\n",
        "\n",
        "print(\"Para x_1:\")\n",
        "# Calcular valores y vectores propios de x_1\n",
        "valores_propios_x1, vectores_propios_x1 = np.linalg.eig(x_1)\n",
        "print(\"Valores propios de x_1:\")\n",
        "print(valores_propios_x1)\n",
        "print(\"Vectores propios de x_1:\")\n",
        "print(vectores_propios_x1)\n",
        "\n",
        "print(\"\\nPara x_2:\")\n",
        "x_2 = np.array([[2, 0],\n",
        "                [0, 3]])\n",
        "# Calcular valores y vectores propios de x_2\n",
        "valores_propios_x2, vectores_propios_x2 = np.linalg.eig(x_2)\n",
        "print(\"Valores propios de x_2:\")\n",
        "print(valores_propios_x2)\n",
        "print(\"Vectores propios de x_2:\")\n",
        "print(vectores_propios_x2)\n"
      ]
    }
  ],
  "metadata": {
    "colab": {
      "provenance": []
    },
    "kernelspec": {
      "display_name": "sistemas_inteligentes",
      "language": "python",
      "name": "python3"
    },
    "language_info": {
      "codemirror_mode": {
        "name": "ipython",
        "version": 3
      },
      "file_extension": ".py",
      "mimetype": "text/x-python",
      "name": "python",
      "nbconvert_exporter": "python",
      "pygments_lexer": "ipython3",
      "version": "3.8.18"
    },
    "vscode": {
      "interpreter": {
        "hash": "90e4140b2e60f217aa413489f79b8cb2d030a4bc742884db65b9d8c2b5235a03"
      }
    }
  },
  "nbformat": 4,
  "nbformat_minor": 0
}
